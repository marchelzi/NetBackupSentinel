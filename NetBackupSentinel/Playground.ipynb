{
 "cells": [
  {
   "cell_type": "code",
   "execution_count": 13,
   "metadata": {},
   "outputs": [],
   "source": [
    "from ndam.devices.mikrotik import Mikrotik\n",
    "import time"
   ]
  },
  {
   "cell_type": "code",
   "execution_count": 14,
   "id": "3bbfc7d4",
   "metadata": {},
   "outputs": [],
   "source": [
    "mikrotik = Mikrotik(\"mikrotik\", \"192.168.101.234\", \"admin\", \"admin\")\n"
   ]
  },
  {
   "cell_type": "code",
   "execution_count": 15,
   "id": "b620b04b",
   "metadata": {},
   "outputs": [],
   "source": [
    "data = mikrotik._connect()"
   ]
  },
  {
   "cell_type": "code",
   "execution_count": 16,
   "id": "08950788",
   "metadata": {},
   "outputs": [
    {
     "name": "stdout",
     "output_type": "stream",
     "text": [
      "None\n"
     ]
    }
   ],
   "source": [
    "print(data)"
   ]
  },
  {
   "cell_type": "code",
   "execution_count": 17,
   "id": "6cd80e6f",
   "metadata": {},
   "outputs": [],
   "source": [
    "data = mikrotik.export()"
   ]
  },
  {
   "cell_type": "code",
   "execution_count": 18,
   "id": "eca552b0",
   "metadata": {},
   "outputs": [
    {
     "data": {
      "text/plain": [
       "'/ip dhcp-client\\r\\nadd disabled=no interface=ether10\\r\\n/ip firewall nat\\r\\nadd action=accept chain=srcnat disabled=yes\\r\\n/system clock\\r\\nset time-zone-name=Asia/Jakarta\\r\\n'"
      ]
     },
     "execution_count": 18,
     "metadata": {},
     "output_type": "execute_result"
    }
   ],
   "source": [
    "data "
   ]
  },
  {
   "cell_type": "code",
   "execution_count": null,
   "id": "115da366",
   "metadata": {},
   "outputs": [],
   "source": []
  },
  {
   "cell_type": "code",
   "execution_count": 19,
   "id": "4d4910d6",
   "metadata": {},
   "outputs": [
    {
     "name": "stdout",
     "output_type": "stream",
     "text": [
      "/ip dhcp-client\n",
      "add disabled=no interface=ether10\n",
      "/ip firewall nat\n",
      "add action=accept chain=srcnat disabled=yes\n",
      "/system clock\n",
      "set time-zone-name=Asia/Jakarta\n",
      "\n"
     ]
    }
   ],
   "source": [
    "data_1 = mikrotik.backup()\n",
    "print(data_1)\n",
    "time.sleep(5)\n",
    "data_2 = mikrotik.backup()"
   ]
  },
  {
   "cell_type": "code",
   "execution_count": 20,
   "id": "a93cb690",
   "metadata": {},
   "outputs": [
    {
     "data": {
      "text/plain": [
       "True"
      ]
     },
     "execution_count": 20,
     "metadata": {},
     "output_type": "execute_result"
    }
   ],
   "source": [
    "mikrotik.is_same_config(data_1, data_2)"
   ]
  },
  {
   "cell_type": "code",
   "execution_count": 21,
   "id": "5a16b991",
   "metadata": {},
   "outputs": [
    {
     "name": "stdout",
     "output_type": "stream",
     "text": [
      "\n"
     ]
    }
   ],
   "source": [
    "compared = mikrotik.compare(data_1, data_2)\n",
    "print(compared)"
   ]
  },
  {
   "cell_type": "code",
   "execution_count": 22,
   "id": "b111525b",
   "metadata": {},
   "outputs": [],
   "source": [
    "import difflib"
   ]
  },
  {
   "cell_type": "code",
   "execution_count": 23,
   "id": "3fb145ed",
   "metadata": {},
   "outputs": [
    {
     "name": "stdout",
     "output_type": "stream",
     "text": [
      "\n"
     ]
    }
   ],
   "source": [
    "diff = difflib.unified_diff(\n",
    "    data_1.splitlines(keepends=True),\n",
    "    data_2.splitlines(keepends=True),\n",
    ")\n",
    "\n",
    "print(\"\".join(diff))"
   ]
  },
  {
   "cell_type": "code",
   "execution_count": 24,
   "id": "ffc69842",
   "metadata": {},
   "outputs": [
    {
     "ename": "AttributeError",
     "evalue": "module 'difflib' has no attribute 'dif'",
     "output_type": "error",
     "traceback": [
      "\u001b[0;31m---------------------------------------------------------------------------\u001b[0m",
      "\u001b[0;31mAttributeError\u001b[0m                            Traceback (most recent call last)",
      "Cell \u001b[0;32mIn[24], line 1\u001b[0m\n\u001b[0;32m----> 1\u001b[0m difflib\u001b[39m.\u001b[39;49mdif\n",
      "\u001b[0;31mAttributeError\u001b[0m: module 'difflib' has no attribute 'dif'"
     ]
    }
   ],
   "source": [
    "difflib.dif"
   ]
  }
 ],
 "metadata": {
  "kernelspec": {
   "display_name": "Django Shell-Plus",
   "language": "python",
   "name": "django_extensions"
  }
 },
 "nbformat": 4,
 "nbformat_minor": 5
}
